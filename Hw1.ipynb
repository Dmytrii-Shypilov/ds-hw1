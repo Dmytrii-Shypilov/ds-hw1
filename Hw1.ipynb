{
 "cells": [
  {
   "cell_type": "code",
   "execution_count": 1,
   "id": "f3a58cf5",
   "metadata": {},
   "outputs": [],
   "source": [
    "import numpy as np\n",
    "import random"
   ]
  },
  {
   "cell_type": "code",
   "execution_count": 22,
   "id": "a111b1d2",
   "metadata": {},
   "outputs": [
    {
     "data": {
      "text/plain": [
       "array([ 1,  2,  3,  4,  5,  6,  7,  8,  9, 10])"
      ]
     },
     "execution_count": 22,
     "metadata": {},
     "output_type": "execute_result"
    }
   ],
   "source": [
    "#1\n",
    "\n",
    "A = np.zeros((10,), dtype=int)\n",
    "for i in range(0,10):\n",
    "    A[i] = i+1\n",
    "\n",
    "A"
   ]
  },
  {
   "cell_type": "code",
   "execution_count": 3,
   "id": "b2c24d5c",
   "metadata": {},
   "outputs": [
    {
     "data": {
      "text/plain": [
       "array([[0, 0, 0],\n",
       "       [0, 0, 0],\n",
       "       [0, 0, 0]])"
      ]
     },
     "execution_count": 3,
     "metadata": {},
     "output_type": "execute_result"
    }
   ],
   "source": [
    "#2\n",
    "\n",
    "B = np.zeros((3,3), dtype=int)\n",
    "B"
   ]
  },
  {
   "cell_type": "code",
   "execution_count": 4,
   "id": "ae067668",
   "metadata": {},
   "outputs": [
    {
     "data": {
      "text/plain": [
       "array([[ 9,  6,  4,  7,  1],\n",
       "       [ 3,  5,  7,  6,  1],\n",
       "       [ 5,  4,  4,  1,  1],\n",
       "       [ 1,  1, 10,  6,  6],\n",
       "       [ 7,  3,  7, 10,  9]])"
      ]
     },
     "execution_count": 4,
     "metadata": {},
     "output_type": "execute_result"
    }
   ],
   "source": [
    "#3\n",
    "\n",
    "C = np.zeros((5,5), dtype=int)\n",
    "\n",
    "for i in range(0,5):\n",
    "    for j in range(0, 5):\n",
    "        C[i,j] = random.randint(1,10)\n",
    "        \n",
    "C"
   ]
  },
  {
   "cell_type": "code",
   "execution_count": 5,
   "id": "e027dbe2",
   "metadata": {},
   "outputs": [
    {
     "data": {
      "text/plain": [
       "array([[0.84697174, 0.07436609, 0.41799256, 0.07533517],\n",
       "       [0.30089352, 0.43294187, 0.82228571, 0.89144822],\n",
       "       [0.79206809, 0.22206436, 0.39661537, 0.42533234],\n",
       "       [0.53105142, 0.17523983, 0.05994669, 0.51762853]])"
      ]
     },
     "execution_count": 5,
     "metadata": {},
     "output_type": "execute_result"
    }
   ],
   "source": [
    "#4\n",
    "\n",
    "D = np.zeros((4,4))\n",
    "\n",
    "for i in range(0,4):\n",
    "    for j in range(0, 4):\n",
    "        D[i,j] = random.random()\n",
    "        \n",
    "D        "
   ]
  },
  {
   "cell_type": "code",
   "execution_count": 6,
   "id": "85cb2ac5",
   "metadata": {},
   "outputs": [
    {
     "name": "stdout",
     "output_type": "stream",
     "text": [
      "[ 2 10  3  1  3] [4 1 7 4 3]\n",
      "[ 6 11 10  5  6] [-2  9 -4 -3  0] [ 8 10 21  4  9]\n"
     ]
    }
   ],
   "source": [
    "#5\n",
    "\n",
    "E = np.random.randint(1,11, size=5)\n",
    "F = np.random.randint(1,11, size=5)\n",
    "\n",
    "sum = E+F\n",
    "sub = E-F\n",
    "mult = E*F\n",
    "\n",
    "print(E, F)\n",
    "print(sum,sub,mult)"
   ]
  },
  {
   "cell_type": "code",
   "execution_count": 7,
   "id": "2bd1b904",
   "metadata": {},
   "outputs": [
    {
     "name": "stdout",
     "output_type": "stream",
     "text": [
      "[7 5 8 1 9 9 6] [2 0 3 5 4 9 5]\n",
      "190\n"
     ]
    }
   ],
   "source": [
    "#6\n",
    "\n",
    "G = np.random.randint(0,11, size=7)\n",
    "H = np.random.randint(0,11, size=7)\n",
    "\n",
    "print(G, H)\n",
    "print(np.dot(G,H))"
   ]
  },
  {
   "cell_type": "code",
   "execution_count": 12,
   "id": "f90f26db",
   "metadata": {},
   "outputs": [
    {
     "name": "stdout",
     "output_type": "stream",
     "text": [
      "[[ 6  5]\n",
      " [10  3]]\n",
      "[[3 5 5]\n",
      " [1 6 5]]\n",
      "[[23 60 55]\n",
      " [33 68 65]]\n"
     ]
    }
   ],
   "source": [
    "#7\n",
    "\n",
    "I = np.random.randint(1,11, size=(2,2))\n",
    "K = np.random.randint(1,11, size=(2,3))\n",
    "\n",
    "print(I)\n",
    "print(K)\n",
    "print(np.dot(I,K))"
   ]
  },
  {
   "cell_type": "code",
   "execution_count": 13,
   "id": "747581f5",
   "metadata": {},
   "outputs": [
    {
     "data": {
      "text/plain": [
       "array([[ 9.91270558e-18,  3.20000000e-01, -1.20000000e-01],\n",
       "       [-1.11111111e-01,  2.66666667e-02,  1.28888889e-01],\n",
       "       [ 1.11111111e-01, -2.26666667e-01,  7.11111111e-02]])"
      ]
     },
     "execution_count": 13,
     "metadata": {},
     "output_type": "execute_result"
    }
   ],
   "source": [
    "#8\n",
    "\n",
    "J = np.random.randint(1,11, size=(3,3))\n",
    "L = np.linalg.inv(J)\n",
    "L"
   ]
  },
  {
   "cell_type": "code",
   "execution_count": 15,
   "id": "797b84f4",
   "metadata": {},
   "outputs": [
    {
     "data": {
      "text/plain": [
       "array([[0.23528562, 0.02718902, 0.53637794, 0.07435746],\n",
       "       [0.70377606, 0.51901034, 0.07258913, 0.13728974],\n",
       "       [0.04004246, 0.5202598 , 0.19519095, 0.69914514],\n",
       "       [0.11718447, 0.49884984, 0.62505116, 0.73973975]])"
      ]
     },
     "execution_count": 15,
     "metadata": {},
     "output_type": "execute_result"
    }
   ],
   "source": [
    "#9\n",
    "\n",
    "O = np.random.random(size=(4,4))\n",
    "print(O)\n",
    "print(O.T)"
   ]
  },
  {
   "cell_type": "code",
   "execution_count": 19,
   "id": "e0cfd44a",
   "metadata": {},
   "outputs": [
    {
     "name": "stdout",
     "output_type": "stream",
     "text": [
      "[[ 1  1  6  1]\n",
      " [ 4  9  3  4]\n",
      " [ 3 10 10  6]]\n",
      "[ 8  6 10  7]\n",
      "[ 81 144 226]\n"
     ]
    }
   ],
   "source": [
    "#10\n",
    "\n",
    "matrix = np.random.randint(1,11, size=(3,4))\n",
    "vector = np.random.randint(1,11, size=4)\n",
    "\n",
    "print(matrix)\n",
    "print(vector)\n",
    "print(np.dot(matrix, vector))"
   ]
  },
  {
   "cell_type": "code",
   "execution_count": 20,
   "id": "40fc6316",
   "metadata": {},
   "outputs": [
    {
     "name": "stdout",
     "output_type": "stream",
     "text": [
      "[[0.96427002 0.64715125 0.80311131 0.57582952]\n",
      " [0.15690074 0.20576775 0.20216901 0.25662874]\n",
      " [0.18586628 0.52916872 0.13874252 0.26390394]]\n",
      "[0.1151981  0.72927995 0.90490381 0.78236499]\n",
      "[1.76028384 0.55185781 0.73934142]\n"
     ]
    }
   ],
   "source": [
    "#11\n",
    "\n",
    "matrix = np.random.random( size=(3,4))\n",
    "vector = np.random.random( size=4)\n",
    "\n",
    "print(matrix)\n",
    "print(vector)\n",
    "print(np.dot(matrix, vector))"
   ]
  },
  {
   "cell_type": "code",
   "execution_count": 24,
   "id": "aef5fab5",
   "metadata": {},
   "outputs": [
    {
     "name": "stdout",
     "output_type": "stream",
     "text": [
      "[[ 3 10]\n",
      " [ 9  5]]\n",
      "[[5 2]\n",
      " [4 6]]\n",
      "[[15 20]\n",
      " [36 30]]\n"
     ]
    }
   ],
   "source": [
    "#12 #13\n",
    "\n",
    "M = np.random.randint(1,11, size=(2,2))\n",
    "K =  np.random.randint(1,11, size=(2,2))\n",
    "\n",
    "print(M)\n",
    "print(K)\n",
    "print(M*K)\n",
    "print(np.dot(K,M))"
   ]
  },
  {
   "cell_type": "code",
   "execution_count": 25,
   "id": "5ffd9ba3",
   "metadata": {},
   "outputs": [
    {
     "name": "stdout",
     "output_type": "stream",
     "text": [
      "[[85  9 25 38 29]\n",
      " [41 34 76 51 44]\n",
      " [83 67 11 81 12]\n",
      " [80 27 88 98 68]\n",
      " [85 30 68 89 87]]\n",
      "1406\n"
     ]
    }
   ],
   "source": [
    "#14\n",
    "\n",
    "M = np.random.randint(1,101, size=(5,5))\n",
    "sum = M.sum()\n",
    "\n",
    "print(M)\n",
    "print(sum)"
   ]
  },
  {
   "cell_type": "code",
   "execution_count": 26,
   "id": "ee459487",
   "metadata": {},
   "outputs": [
    {
     "name": "stdout",
     "output_type": "stream",
     "text": [
      "[[ 5  8  5  4]\n",
      " [10  1  9  9]\n",
      " [ 2  3 10  4]\n",
      " [ 5  9  6  6]]\n",
      "[[7 8 8 2]\n",
      " [9 2 7 1]\n",
      " [4 3 7 9]\n",
      " [3 2 3 3]]\n",
      "[[-2  0 -3  2]\n",
      " [ 1 -1  2  8]\n",
      " [-2  0  3 -5]\n",
      " [ 2  7  3  3]]\n"
     ]
    }
   ],
   "source": [
    "#15\n",
    "A = np.random.randint(1,11, size=(4,4))\n",
    "B = np.random.randint(1,11, size=(4,4))\n",
    "\n",
    "print(A)\n",
    "print(B)\n",
    "print(A-B)\n"
   ]
  },
  {
   "cell_type": "code",
   "execution_count": 35,
   "id": "57c7374d",
   "metadata": {},
   "outputs": [
    {
     "name": "stdout",
     "output_type": "stream",
     "text": [
      "[[0.07904645 0.75556279 0.44686274]\n",
      " [0.83386527 0.83338889 0.89157512]\n",
      " [0.04674142 0.30376176 0.45279655]]\n",
      "[1.28147197 2.55882929 0.80329973]\n",
      "[[1.28147197]\n",
      " [2.55882929]\n",
      " [0.80329973]]\n"
     ]
    }
   ],
   "source": [
    "#16\n",
    "\n",
    "M = np.random.random(size=(3,3))\n",
    "\n",
    "sums = np.sum(M, axis=1)\n",
    "column = sums.reshape(3,1)\n",
    "\n",
    "print(M)\n",
    "print(sums)\n",
    "print(column)"
   ]
  },
  {
   "cell_type": "code",
   "execution_count": 36,
   "id": "2deaca5c",
   "metadata": {},
   "outputs": [
    {
     "name": "stdout",
     "output_type": "stream",
     "text": [
      "[[ 7  2  6 10]\n",
      " [ 8 10  6  4]\n",
      " [ 7 10 10  5]]\n",
      "[[ 49   4  36 100]\n",
      " [ 64 100  36  16]\n",
      " [ 49 100 100  25]]\n"
     ]
    }
   ],
   "source": [
    "#17\n",
    "\n",
    "A = np.random.randint(1,11, size=(3,4))\n",
    "squared = np.square(A)\n",
    "\n",
    "print(A)\n",
    "print(squared)\n"
   ]
  },
  {
   "cell_type": "code",
   "execution_count": 37,
   "id": "f4a587f6",
   "metadata": {},
   "outputs": [
    {
     "name": "stdout",
     "output_type": "stream",
     "text": [
      "[ 9 39 18 13]\n",
      "[3.         6.244998   4.24264069 3.60555128]\n"
     ]
    }
   ],
   "source": [
    "#18\n",
    "\n",
    "vector = np.random.randint(1,51, size=4)\n",
    "sqrt = np.sqrt(vector)\n",
    "\n",
    "print(vector)\n",
    "print(sqrt)"
   ]
  },
  {
   "cell_type": "code",
   "execution_count": null,
   "id": "15438196",
   "metadata": {},
   "outputs": [],
   "source": []
  }
 ],
 "metadata": {
  "kernelspec": {
   "display_name": "Python 3 (ipykernel)",
   "language": "python",
   "name": "python3"
  },
  "language_info": {
   "codemirror_mode": {
    "name": "ipython",
    "version": 3
   },
   "file_extension": ".py",
   "mimetype": "text/x-python",
   "name": "python",
   "nbconvert_exporter": "python",
   "pygments_lexer": "ipython3",
   "version": "3.11.4"
  }
 },
 "nbformat": 4,
 "nbformat_minor": 5
}
